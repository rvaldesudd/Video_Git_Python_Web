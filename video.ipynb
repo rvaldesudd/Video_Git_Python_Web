{
 "cells": [
  {
   "cell_type": "code",
   "execution_count": 1,
   "metadata": {},
   "outputs": [],
   "source": [
    "import pandas as pd"
   ]
  },
  {
   "cell_type": "code",
   "execution_count": 2,
   "metadata": {},
   "outputs": [
    {
     "name": "stdout",
     "output_type": "stream",
     "text": [
      "            Edad      Altura        Peso\n",
      "count  99.000000   99.000000   99.000000\n",
      "mean   20.515152  177.000000   74.757576\n",
      "std     4.163406    8.213975   13.115726\n",
      "min    18.000000  159.000000   51.000000\n",
      "25%    18.000000  171.000000   67.000000\n",
      "50%    19.000000  178.000000   72.000000\n",
      "75%    22.000000  182.000000   82.000000\n",
      "max    51.000000  200.000000  120.000000\n"
     ]
    }
   ],
   "source": [
    "df_students=pd.read_csv('estudiantes.csv',delimiter=',',header='infer')\n",
    "print(df_students.describe())"
   ]
  },
  {
   "cell_type": "code",
   "execution_count": 5,
   "metadata": {},
   "outputs": [
    {
     "name": "stdout",
     "output_type": "stream",
     "text": [
      "pendiente: 0.8686\n",
      "y-intercepcion: -78.9797\n"
     ]
    }
   ],
   "source": [
    "from scipy import stats\n",
    "df_regression = df_students[['Altura', 'Peso']].copy()\n",
    "m, b, r, p, se = stats.linregress(df_regression['Altura'], df_regression['Peso'])\n",
    "print('pendiente: {:.4f}\\ny-intercepcion: {:.4f}'.format(m,b))"
   ]
  },
  {
   "cell_type": "code",
   "execution_count": 6,
   "metadata": {},
   "outputs": [],
   "source": [
    "df_regression['fx'] = (m * df_regression['Altura']) + b\n",
    "df_regression['error'] = df_regression['fx'] - df_regression['Peso']"
   ]
  },
  {
   "cell_type": "code",
   "execution_count": 7,
   "metadata": {},
   "outputs": [
    {
     "data": {
      "text/plain": [
       "<function matplotlib.pyplot.show(close=None, block=None)>"
      ]
     },
     "execution_count": 7,
     "metadata": {},
     "output_type": "execute_result"
    },
    {
     "data": {
      "image/png": "[encoded data removed]",
      "text/plain": [
       "<Figure size 640x480 with 1 Axes>"
      ]
     },
     "metadata": {},
     "output_type": "display_data"
    }
   ],
   "source": [
    "%matplotlib inline\n",
    "from matplotlib import pyplot as plt\n",
    "df_regression.plot.scatter(x='Altura',y='Peso')\n",
    "plt.plot(df_regression['Altura'],df_regression['fx'],color='cyan')\n",
    "plt.show"
   ]
  },
  {
   "cell_type": "code",
   "execution_count": 8,
   "metadata": {},
   "outputs": [
    {
     "name": "stdout",
     "output_type": "stream",
     "text": [
      "    Altura  Peso         fx      error\n",
      "0      178    82  75.626148  -6.373852\n",
      "1      168    87  66.940425 -20.059575\n",
      "2      194    94  89.523305  -4.476695\n",
      "3      159    62  59.123274  -2.876726\n",
      "4      177    78  74.757576  -3.242424\n",
      "..     ...   ...        ...        ...\n",
      "94     162    57  61.728991   4.728991\n",
      "95     182   120  79.100437 -40.899563\n",
      "96     180    73  77.363293   4.363293\n",
      "97     167    80  66.071853 -13.928147\n",
      "98     180   105  77.363293 -27.636707\n",
      "\n",
      "[99 rows x 4 columns]\n"
     ]
    }
   ],
   "source": [
    "print(df_regression[['Altura', 'Peso', 'fx', 'error']])\n"
   ]
  },
  {
   "cell_type": "code",
   "execution_count": 11,
   "metadata": {},
   "outputs": [
    {
     "name": "stdout",
     "output_type": "stream",
     "text": [
      "el peso de un estudiante de altura 180 se estima en 77\n"
     ]
    }
   ],
   "source": [
    "def f(x):\n",
    "    m = 0.8686\n",
    "    b = -78.9797\n",
    "    return m*x+b\n",
    "altura=180\n",
    "prediccion=f(altura)\n",
    "print('el peso de un estudiante de altura {:.0f} se estima en {:.0f}'.format(altura,prediccion))"
   ]
  }
 ],
 "metadata": {
  "kernelspec": {
   "display_name": "venv",
   "language": "python",
   "name": "python3"
  },
  "language_info": {
   "codemirror_mode": {
    "name": "ipython",
    "version": 3
   },
   "file_extension": ".py",
   "mimetype": "text/x-python",
   "name": "python",
   "nbconvert_exporter": "python",
   "pygments_lexer": "ipython3",
   "version": "3.11.1"
  },
  "orig_nbformat": 4
 },
 "nbformat": 4,
 "nbformat_minor": 2
}
